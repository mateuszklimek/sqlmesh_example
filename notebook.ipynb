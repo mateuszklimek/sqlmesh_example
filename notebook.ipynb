{
 "cells": [
  {
   "cell_type": "code",
   "execution_count": 5,
   "id": "1acd368d-adb1-45d4-872e-d908c04dfa7c",
   "metadata": {},
   "outputs": [],
   "source": [
    "import sqlmesh\n"
   ]
  },
  {
   "cell_type": "code",
   "execution_count": 6,
   "id": "468b7025-07eb-4a30-8fbf-2380cc1d4080",
   "metadata": {},
   "outputs": [
    {
     "data": {
      "text/html": [
       "<pre style=\"white-space:pre;overflow-x:auto;line-height:normal;font-family:Menlo,'DejaVu Sans Mono',consolas,'Courier New',monospace\">\n",
       "<span style=\"color: #008000; text-decoration-color: #008000\">SQLMesh project context set to: .</span>\n",
       "\n",
       "</pre>\n"
      ],
      "text/plain": [
       "\n",
       "\u001b[32mSQLMesh project context set to: .\u001b[0m\n",
       "\n"
      ]
     },
     "metadata": {},
     "output_type": "display_data"
    }
   ],
   "source": [
    "%context .\n"
   ]
  },
  {
   "cell_type": "markdown",
   "id": "e429eeb6-3573-4fa1-9ca3-807cbc2b5bd7",
   "metadata": {},
   "source": [
    "%%model sqlmesh_example.incremental_model\n",
    "MODEL (\n",
    "  name sqlmesh_example.incremental_model,\n",
    "  start '2020-01-01',\n",
    "  dialect duckdb,\n",
    "  kind INCREMENTAL_BY_TIME_RANGE (\n",
    "    time_column (event_date, '%Y-%m-%d')\n",
    "  ),\n",
    "  grains ((id, event_date))\n",
    ");\n",
    "\n",
    "SELECT\n",
    "  id,\n",
    "  item_id,\n",
    "  'z' AS new_column, /* Added column */\n",
    "  event_date\n",
    "FROM sqlmesh_example.seed_model\n",
    "WHERE\n",
    "  event_date BETWEEN @start_date AND @end_date"
   ]
  },
  {
   "cell_type": "code",
   "execution_count": null,
   "id": "a0e4da2c-b18d-4df8-836c-44b428ddb5f3",
   "metadata": {},
   "outputs": [],
   "source": [
    "%contex"
   ]
  }
 ],
 "metadata": {
  "kernelspec": {
   "display_name": "Python 3 (ipykernel)",
   "language": "python",
   "name": "python3"
  },
  "language_info": {
   "codemirror_mode": {
    "name": "ipython",
    "version": 3
   },
   "file_extension": ".py",
   "mimetype": "text/x-python",
   "name": "python",
   "nbconvert_exporter": "python",
   "pygments_lexer": "ipython3",
   "version": "3.9.9"
  }
 },
 "nbformat": 4,
 "nbformat_minor": 5
}
